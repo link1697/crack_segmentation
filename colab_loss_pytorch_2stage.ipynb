{
  "cells": [
    {
      "cell_type": "markdown",
      "metadata": {
        "colab_type": "text",
        "id": "view-in-github"
      },
      "source": [
        "<a href=\"https://colab.research.google.com/github/link1697/crack_segmentation/blob/main/%E8%B4%A5%E5%8C%97_pytorch_2stage_resize.ipynb\" target=\"_parent\"><img src=\"https://colab.research.google.com/assets/colab-badge.svg\" alt=\"Open In Colab\"/></a>"
      ]
    },
    {
      "cell_type": "code",
      "execution_count": 1,
      "metadata": {
        "id": "0XIhXe6te5RQ"
      },
      "outputs": [],
      "source": [
        "import os\n",
        "import numpy as np\n",
        "import tensorflow as tf\n",
        "from tensorflow.keras import layers\n",
        "from tensorflow.keras.models import Model\n",
        "from sklearn.model_selection import train_test_split\n",
        "import matplotlib.pyplot as plt\n",
        "from tensorflow.keras.applications import ResNet50\n",
        "from keras import metrics\n",
        "import random\n",
        "\n",
        "from tensorflow.keras.preprocessing.image import ImageDataGenerator\n",
        "from tensorflow.keras.preprocessing.image import img_to_array, load_img\n",
        "from sklearn.model_selection import train_test_split\n",
        "import cv2\n",
        "import PIL\n",
        "from PIL import Image\n",
        "from tensorflow.keras.preprocessing.image import ImageDataGenerator\n",
        "import tensorflow as tf\n",
        "from tensorflow import keras\n",
        "from tensorflow.keras import layers, models\n",
        "from tqdm import tqdm\n",
        "from keras import backend as K\n",
        "import torch.nn.functional as F"
      ]
    },
    {
      "cell_type": "code",
      "execution_count": 3,
      "metadata": {
        "colab": {
          "base_uri": "https://localhost:8080/"
        },
        "id": "sZqHdhWGrDQb",
        "outputId": "6089c81d-e3bc-40da-9e9e-f984e3ffa195"
      },
      "outputs": [
        {
          "name": "stdout",
          "output_type": "stream",
          "text": [
            "Mounted at /content/drive\n"
          ]
        }
      ],
      "source": [
        "from google.colab import drive\n",
        "drive.mount('/content/drive')"
      ]
    },
    {
      "cell_type": "code",
      "execution_count": 4,
      "metadata": {
        "id": "sMVi4NXNvmOg"
      },
      "outputs": [],
      "source": [
        "import os\n",
        "import os\n",
        "import cv2\n",
        "import torch\n",
        "from torch.utils.data import Dataset, DataLoader, random_split\n",
        "import torch.optim as optim\n",
        "import torch.nn as nn\n",
        "import torch.nn.functional as F"
      ]
    },
    {
      "cell_type": "code",
      "execution_count": 5,
      "metadata": {
        "id": "_FvQ41b1e5RU"
      },
      "outputs": [],
      "source": [
        "def ensure_uint8(image):\n",
        "    if image.dtype != np.uint8:\n",
        "        image = (image * 255).clip(0, 255).astype(np.uint8)\n",
        "    return image\n",
        "\n",
        "def apply_gaussian_blur(image, kernel_size=(5, 5)):\n",
        "    # Assuming the input image is a float between 0 and 1\n",
        "    image = ensure_uint8(image)  # Convert to uint8\n",
        "    blurred = cv2.GaussianBlur(image, kernel_size, 0)\n",
        "    return blurred / 255.0  # Re-normalize to float between 0 and 1 if necessary\n",
        "\n",
        "def apply_sobel_filter(image, ksize=3):\n",
        "    # Convert to grayscale\n",
        "    image = ensure_uint8(image)  # Convert to uint8\n",
        "    gray = cv2.cvtColor(image, cv2.COLOR_BGR2GRAY)\n",
        "    sobelx = cv2.Sobel(gray, cv2.CV_64F, 1, 0, ksize=ksize)\n",
        "    sobely = cv2.Sobel(gray, cv2.CV_64F, 0, 1, ksize=ksize)\n",
        "    sobel = cv2.addWeighted(np.absolute(sobelx), 0.5, np.absolute(sobely), 0.5, 0)\n",
        "    sobel = np.clip(sobel, 0, 255).astype(np.uint8)  # Ensure the result is uint8\n",
        "    return cv2.cvtColor(sobel, cv2.COLOR_GRAY2BGR) / 255.0  # Convert back to BGR and normalize\n",
        "\n",
        "def apply_gaussian_noise(image, noise_level=5):\n",
        "    # Assuming the input image is a float between 0 and 1\n",
        "    image = ensure_uint8(image)  # Convert to uint8\n",
        "    gauss_noise = np.random.normal(0, noise_level, image.shape).astype(np.uint8)\n",
        "    noisy_image = cv2.add(image, gauss_noise)\n",
        "    return noisy_image / 255.0  # Re-normalize to float between 0 and 1 if necessary\n",
        "\n",
        "def color_distort_smooth(image, hue_shift=87, saturation_scale=1.3, value_scale=1.7):\n",
        "    # Assuming the input image is a float between 0 and 1\n",
        "    image = ensure_uint8(image)  # Convert to uint8\n",
        "    hsv = cv2.cvtColor(image, cv2.COLOR_BGR2HSV)\n",
        "    h, s, v = cv2.split(hsv)\n",
        "    h = (h + hue_shift) % 180\n",
        "    s = np.clip(s * saturation_scale, 0, 255).astype(np.uint8)\n",
        "    v = np.clip(v * value_scale, 0, 255).astype(np.uint8)\n",
        "    final_hsv = cv2.merge((h, s, v))\n",
        "    color_distorted_image = cv2.cvtColor(final_hsv, cv2.COLOR_HSV2BGR)\n",
        "    return color_distorted_image / 255.0  # Re-normalize if necessary\n",
        "\n",
        "augmentations = [apply_gaussian_blur, apply_sobel_filter, apply_gaussian_noise, color_distort_smooth]"
      ]
    },
    {
      "cell_type": "markdown",
      "metadata": {
        "id": "4nlvAjazqFGP"
      },
      "source": [
        "Pre-traning dataset"
      ]
    },
    {
      "cell_type": "code",
      "execution_count": 6,
      "metadata": {
        "colab": {
          "base_uri": "https://localhost:8080/"
        },
        "id": "RJb9yV0JL137",
        "outputId": "0fd091c5-5e1b-4432-9506-1100610bc0c0"
      },
      "outputs": [
        {
          "name": "stdout",
          "output_type": "stream",
          "text": [
            "Using device: cuda\n"
          ]
        },
        {
          "name": "stderr",
          "output_type": "stream",
          "text": [
            "/usr/local/lib/python3.10/dist-packages/torch/utils/data/dataloader.py:558: UserWarning: This DataLoader will create 4 worker processes in total. Our suggested max number of worker in current system is 2, which is smaller than what this DataLoader is going to create. Please be aware that excessive worker creation might get DataLoader running slow or even freeze, lower the worker number to avoid potential slowness/freeze if necessary.\n",
            "  warnings.warn(_create_warning_msg(\n",
            "/usr/lib/python3.10/multiprocessing/popen_fork.py:66: RuntimeWarning: os.fork() was called. os.fork() is incompatible with multithreaded code, and JAX is multithreaded, so this will likely lead to a deadlock.\n",
            "  self.pid = os.fork()\n",
            "/usr/lib/python3.10/multiprocessing/popen_fork.py:66: RuntimeWarning: os.fork() was called. os.fork() is incompatible with multithreaded code, and JAX is multithreaded, so this will likely lead to a deadlock.\n",
            "  self.pid = os.fork()\n"
          ]
        },
        {
          "name": "stdout",
          "output_type": "stream",
          "text": [
            "Crack Batch Shape (on GPU): torch.Size([32, 3, 112, 112])\n",
            "Background Batch Shape (on GPU): torch.Size([32, 3, 112, 112])\n"
          ]
        }
      ],
      "source": [
        "# Custom Dataset for Crack and Background Pair Loading\n",
        "class CrackBackgroundDataset(Dataset):\n",
        "    def __init__(self, crack_dir, background_dir, img_size=(448, 448)):\n",
        "        self.crack_dir = crack_dir\n",
        "        self.background_dir = background_dir\n",
        "        self.img_size = img_size\n",
        "\n",
        "\n",
        "        # List all files available in the crack directory (assuming they have a matching filename in the background directory)\n",
        "        self.filenames = [f for f in os.listdir(crack_dir) if os.path.isfile(os.path.join(background_dir, f))]\n",
        "        np.random.shuffle(self.filenames)\n",
        "        self.filenames = self.filenames[:960]\n",
        "    def __len__(self):\n",
        "        return len(self.filenames)\n",
        "\n",
        "    def __getitem__(self, idx):\n",
        "        # Get the filename for this index\n",
        "        filename = self.filenames[idx]\n",
        "\n",
        "        # Read crack image and background image\n",
        "        crack_img_path = os.path.join(self.crack_dir, filename)\n",
        "        background_img_path = os.path.join(self.background_dir, filename)\n",
        "\n",
        "        crack_img = cv2.imread(crack_img_path)\n",
        "        # background_img = cv2.imread(background_img_path)\n",
        "\n",
        "        # Resize to the desired size\n",
        "        crack_img = cv2.resize(crack_img, self.img_size) / 255.0\n",
        "        # background_img = cv2.resize(background_img, self.img_size) / 255.0\n",
        "\n",
        "        selected_augmentations = random.sample(augmentations, 2)\n",
        "        crack_left = selected_augmentations[0](crack_img)\n",
        "        crack_right = selected_augmentations[1](crack_img)\n",
        "        left_tensor = torch.tensor(crack_left.transpose(2, 0, 1), dtype=torch.float32)\n",
        "        right_tensor = torch.tensor(crack_right.transpose(2, 0, 1), dtype=torch.float32)\n",
        "\n",
        "        # selected_augmentations = random.sample(augmentations, 2)\n",
        "        # background_left = selected_augmentations[1](background_img)\n",
        "        # background_right = selected_augmentations[0](background_img)\n",
        "        # left_tensor = torch.tensor(background_left.transpose(2, 0, 1), dtype=torch.float32)\n",
        "        # right_tensor = torch.tensor(background_right.transpose(2, 0, 1), dtype=torch.float32)\n",
        "        # Convert to PyTorch tensors and reorder dimensions (channels, height, width)\n",
        "\n",
        "        return left_tensor, right_tensor\n",
        "\n",
        "\n",
        "# Set up the device for training and testing\n",
        "device = torch.device(\"cuda\" if torch.cuda.is_available() else \"cpu\")\n",
        "print(f\"Using device: {device}\")\n",
        "\n",
        "\n",
        "# Define paths and initialize the dataset\n",
        "crack_dir = \"/content/drive/MyDrive/CEE 598 DL/archive/crack_segmentation_dataset/train/images/\"\n",
        "background_dir = \"/content/drive/MyDrive/CEE 598 DL/archive/cropped/CFD_background_region/\"\n",
        "img_size = (448, 448)\n",
        "\n",
        "dataset = CrackBackgroundDataset(crack_dir, background_dir, img_size=img_size)\n",
        "\n",
        "# Create the DataLoader\n",
        "batch_size = 32\n",
        "train_loader = DataLoader(dataset, batch_size=batch_size, shuffle=True, num_workers=4, pin_memory=True)\n",
        "\n",
        "for crack_batch, background_batch in train_loader:\n",
        "    # Move batches to the specified device\n",
        "    crack_batch = crack_batch.to(device)\n",
        "    background_batch = background_batch.to(device)\n",
        "\n",
        "    print(\"Crack Batch Shape (on GPU):\", crack_batch.shape)\n",
        "    print(\"Background Batch Shape (on GPU):\", background_batch.shape)\n",
        "    break  # Stop after the first batch to inspect"
      ]
    },
    {
      "cell_type": "markdown",
      "metadata": {
        "id": "b8OCDeLtqI6k"
      },
      "source": [
        "U-net + MLP"
      ]
    },
    {
      "cell_type": "code",
      "execution_count": 92,
      "metadata": {
        "colab": {
          "base_uri": "https://localhost:8080/"
        },
        "id": "vCsel6c0L2Y0",
        "outputId": "e567e43d-1b19-4f6c-9250-086df66a6750"
      },
      "outputs": [
        {
          "name": "stdout",
          "output_type": "stream",
          "text": [
            "Using device: cuda\n",
            "Projected Output Shape: torch.Size([1, 64])\n"
          ]
        }
      ],
      "source": [
        "device = torch.device(\"cuda\" if torch.cuda.is_available() else \"cpu\")\n",
        "print(f\"Using device: {device}\")\n",
        "\n",
        "# U-Net Encoder Blocks\n",
        "def conv_block(in_channels, out_channels):\n",
        "    return nn.Sequential(\n",
        "        nn.Conv2d(in_channels, out_channels, kernel_size=3, padding=1),\n",
        "        nn.BatchNorm2d(out_channels),\n",
        "        nn.ReLU(inplace=True),\n",
        "        nn.Conv2d(out_channels, out_channels, kernel_size=3, padding=1),\n",
        "        nn.BatchNorm2d(out_channels),\n",
        "        nn.ReLU(inplace=True)\n",
        "    )\n",
        "\n",
        "# U-Net Encoder Class\n",
        "class UNetEncoder(nn.Module):\n",
        "    def __init__(self, in_channels=3, features=32):\n",
        "        super(UNetEncoder, self).__init__()\n",
        "        self.enc1 = conv_block(in_channels, features)\n",
        "        self.pool1 = nn.MaxPool2d(2, 2)\n",
        "        self.enc2 = conv_block(features, features * 2)\n",
        "        self.pool2 = nn.MaxPool2d(2, 2)\n",
        "        self.enc3 = conv_block(features * 2, features * 4)\n",
        "        self.pool3 = nn.MaxPool2d(2, 2)\n",
        "        self.enc4 = conv_block(features * 4, features * 8)\n",
        "        self.pool4 = nn.MaxPool2d(2, 2)\n",
        "\n",
        "        # Bottleneck layer\n",
        "        self.bottleneck = nn.Conv2d(features * 8, features * 16, kernel_size=3, padding=1)\n",
        "\n",
        "    def forward(self, x):\n",
        "        x = self.enc1(x)\n",
        "        x = self.pool1(x)\n",
        "        x = self.enc2(x)\n",
        "        x = self.pool2(x)\n",
        "        x = self.enc3(x)\n",
        "        x = self.pool3(x)\n",
        "        x = self.enc4(x)\n",
        "        x = self.pool4(x)\n",
        "        x = self.bottleneck(x)\n",
        "\n",
        "        # Flatten output\n",
        "        x = x.view(x.size(0), -1)\n",
        "        return x\n",
        "\n",
        "# Projection Head Class\n",
        "class ProjectionHead(nn.Module):\n",
        "    def __init__(self, input_dim, hidden_dim=128, output_dim=64):\n",
        "        super(ProjectionHead, self).__init__()\n",
        "        self.fc1 = nn.Linear(input_dim, hidden_dim)\n",
        "        self.fc2 = nn.Linear(hidden_dim, output_dim)\n",
        "        self.relu = nn.ReLU(inplace=True)\n",
        "\n",
        "    def forward(self, x):\n",
        "        x = self.relu(self.fc1(x))\n",
        "        x = self.fc2(x)\n",
        "        return x\n",
        "\n",
        "# Integrate U-Net Encoder and Projection Head\n",
        "dummy_input = torch.randn(1, 3, 256, 256).to(device)\n",
        "encoder = UNetEncoder(in_channels=3, features=32).to(device)\n",
        "encoder_output = encoder(dummy_input)\n",
        "\n",
        "# Flattened encoder output size\n",
        "flattened_output = encoder_output.shape[1]\n",
        "\n",
        "# Create the projection head with the correct input dimension\n",
        "projection_head = ProjectionHead(input_dim=flattened_output).to(device)\n",
        "\n",
        "# Test the forward pass with a dummy input\n",
        "projected_output = projection_head(encoder_output)\n",
        "print(\"Projected Output Shape:\", projected_output.shape)\n"
      ]
    },
    {
      "cell_type": "markdown",
      "metadata": {
        "id": "meBcJ8ZjqLvu"
      },
      "source": [
        "train encoder+MLP"
      ]
    },
    {
      "cell_type": "code",
      "execution_count": 9,
      "metadata": {
        "colab": {
          "base_uri": "https://localhost:8080/"
        },
        "id": "90hOyrNkTnpQ",
        "outputId": "c1633320-338d-4f04-9703-1ffda786ef57"
      },
      "outputs": [
        {
          "name": "stderr",
          "output_type": "stream",
          "text": [
            "/usr/local/lib/python3.10/dist-packages/torch/utils/data/dataloader.py:558: UserWarning: This DataLoader will create 4 worker processes in total. Our suggested max number of worker in current system is 2, which is smaller than what this DataLoader is going to create. Please be aware that excessive worker creation might get DataLoader running slow or even freeze, lower the worker number to avoid potential slowness/freeze if necessary.\n",
            "  warnings.warn(_create_warning_msg(\n",
            "/usr/lib/python3.10/multiprocessing/popen_fork.py:66: RuntimeWarning: os.fork() was called. os.fork() is incompatible with multithreaded code, and JAX is multithreaded, so this will likely lead to a deadlock.\n",
            "  self.pid = os.fork()\n"
          ]
        },
        {
          "name": "stdout",
          "output_type": "stream",
          "text": [
            "Epoch 1/10 - Loss: 2.7729\n",
            "Epoch 2/10 - Loss: 2.6079\n",
            "Epoch 3/10 - Loss: 2.2355\n",
            "Epoch 4/10 - Loss: 2.1479\n",
            "Epoch 5/10 - Loss: 2.0448\n",
            "Epoch 6/10 - Loss: 1.8958\n",
            "Epoch 7/10 - Loss: 1.8460\n",
            "Epoch 8/10 - Loss: 1.7149\n",
            "Epoch 9/10 - Loss: 1.6973\n",
            "Epoch 10/10 - Loss: 1.5747\n"
          ]
        }
      ],
      "source": [
        "# Initialize the encoder and projection head\n",
        "encoder = UNetEncoder(in_channels=3, features=32)\n",
        "encoder_output = encoder(torch.randn(1, 3, 448, 448))\n",
        "flattened_output = encoder_output.shape[1]\n",
        "projection_head = ProjectionHead(input_dim=flattened_output)\n",
        "\n",
        "# Set up the device (GPU if available)\n",
        "device = torch.device(\"cuda\" if torch.cuda.is_available() else \"cpu\")\n",
        "encoder.to(device)\n",
        "projection_head.to(device)\n",
        "\n",
        "# Initialize optimizer\n",
        "optimizer = optim.Adam(list(encoder.parameters()) + list(projection_head.parameters()), lr=1e-3)\n",
        "\n",
        "# Define a contrastive loss class and ensure the loss calculation is on the appropriate device\n",
        "def contrastive_loss(pos_crack, pos_bg, all_features, temperature=0.5):\n",
        "    # all_features includes all crack and background features concatenated\n",
        "    # Calculate positive similarity\n",
        "    pos_sim = F.cosine_similarity(pos_crack, pos_bg, dim=-1).unsqueeze(1)\n",
        "\n",
        "    # Calculate negative similarities\n",
        "    # Exclude the current positive samples from the negative set\n",
        "    neg_samples = torch.cat([all_features[:pos_crack.shape[0]-1], all_features[pos_crack.shape[0]+1:]])\n",
        "\n",
        "    neg_sim = F.cosine_similarity(pos_crack, neg_samples, dim=-1)\n",
        "    neg_sim_bg = F.cosine_similarity(pos_bg, neg_samples, dim=-1)\n",
        "\n",
        "    # Combine negative similarities from both perspectives\n",
        "    neg_sim_combined = torch.cat([neg_sim, neg_sim_bg], dim=0)\n",
        "\n",
        "    # Exponential terms for the softmax contrastive formula\n",
        "    exp_pos_sim = torch.exp(pos_sim / temperature)\n",
        "    sum_exp_neg_sim = torch.sum(torch.exp(neg_sim_combined / temperature), dim=0, keepdim=True)\n",
        "\n",
        "    # Contrastive loss calculation\n",
        "    loss = -torch.log(exp_pos_sim / (sum_exp_neg_sim + 1e-9))\n",
        "    return loss.mean()\n",
        "\n",
        "\n",
        "num_epochs = 100\n",
        "\n",
        "for epoch in range(num_epochs):\n",
        "    running_loss = 0.0\n",
        "    for crack_batch, background_batch in train_loader:\n",
        "        crack_batch, background_batch = crack_batch.to(device), background_batch.to(device)\n",
        "\n",
        "        # Get features for both crack and background images\n",
        "        crack_features = projection_head(encoder(crack_batch))\n",
        "        background_features = projection_head(encoder(background_batch))\n",
        "\n",
        "        # Concatenate all features for negative sampling\n",
        "        all_features = torch.cat([crack_features, background_features], dim=0)\n",
        "\n",
        "        batch_loss = 0.0\n",
        "        for i in range(crack_batch.size(0)):\n",
        "            pos_crack = crack_features[i].unsqueeze(0)\n",
        "            pos_bg = background_features[i].unsqueeze(0)\n",
        "\n",
        "            # Calculate contrastive loss for each pair with all other as negatives\n",
        "            loss = contrastive_loss(pos_crack, pos_bg, all_features)\n",
        "            batch_loss += loss.item()\n",
        "\n",
        "        batch_loss /= crack_batch.size(0)\n",
        "\n",
        "        optimizer.zero_grad()\n",
        "        loss.backward()\n",
        "        optimizer.step()\n",
        "\n",
        "        running_loss += batch_loss\n",
        "\n",
        "    print(f\"Epoch {epoch+1}/{num_epochs} - Loss: {running_loss / len(train_loader):.4f}\")\n"
      ]
    },
    {
      "cell_type": "markdown",
      "metadata": {
        "id": "0ox_URWvs28Z"
      },
      "source": [
        "save encoder (for reusing weights and bias in fine-tuning)"
      ]
    },
    {
      "cell_type": "code",
      "execution_count": 10,
      "metadata": {
        "id": "M2fhFrw8s2MY"
      },
      "outputs": [],
      "source": [
        "# After training with contrastive loss\n",
        "torch.save(encoder.state_dict(), \"/content/drive/MyDrive/CEE 598 DL/stage1_weight.pth\")"
      ]
    },
    {
      "cell_type": "markdown",
      "metadata": {
        "id": "d-ApsqLHp5Wy"
      },
      "source": [
        "Fine-tuning dataset"
      ]
    },
    {
      "cell_type": "code",
      "execution_count": 11,
      "metadata": {
        "colab": {
          "base_uri": "https://localhost:8080/"
        },
        "id": "rS7te2BqnNPY",
        "outputId": "823e99f8-d629-4481-d6fc-7effa012fe50"
      },
      "outputs": [
        {
          "name": "stdout",
          "output_type": "stream",
          "text": [
            "Warning: Adjusting train/test split to match dataset length (117)\n",
            "Training Image Batch Shape: torch.Size([16, 3, 112, 112])\n",
            "Training Mask Batch Shape: torch.Size([16, 1, 112, 112])\n",
            "Testing Image Batch Shape: torch.Size([16, 3, 112, 112])\n",
            "Testing Mask Batch Shape: torch.Size([16, 1, 112, 112])\n"
          ]
        }
      ],
      "source": [
        "# Define a Dataset Class for Crack Images and Masks\n",
        "class CrackSegmentationDataset(Dataset):\n",
        "    def __init__(self, image_dir, mask_dir):\n",
        "        self.image_dir = image_dir\n",
        "        self.mask_dir = mask_dir\n",
        "\n",
        "        # List all image files in the directory (assuming each has a corresponding mask)\n",
        "        self.image_files = [f for f in os.listdir(image_dir) if os.path.isfile(os.path.join(mask_dir, f))]\n",
        "\n",
        "    def __len__(self):\n",
        "        return len(self.image_files)\n",
        "\n",
        "    def __getitem__(self, idx):\n",
        "        # Get the image file name and corresponding mask file path\n",
        "        image_file = self.image_files[idx]\n",
        "        image_path = os.path.join(self.image_dir, image_file)\n",
        "        mask_path = os.path.join(self.mask_dir, image_file)  # Assuming masks have the same name\n",
        "\n",
        "        # Load the image and mask\n",
        "        image = cv2.imread(image_path)\n",
        "        mask = cv2.imread(mask_path, cv2.IMREAD_GRAYSCALE)  # Load mask as grayscale\n",
        "\n",
        "        # Normalize both to the range [0, 1] without resizing\n",
        "        image = image / 255.0  # Normalize image\n",
        "        mask = mask / 255.0  # Normalize mask\n",
        "\n",
        "        # Convert to PyTorch tensors and change shape to [C, H, W]\n",
        "        image_tensor = torch.tensor(image.transpose(2, 0, 1), dtype=torch.float32)\n",
        "        mask_tensor = torch.tensor(mask, dtype=torch.float32).unsqueeze(0)  # Add a channel dimension\n",
        "\n",
        "        return image_tensor, mask_tensor\n",
        "\n",
        "\n",
        "# Ensure we use GPU if available\n",
        "device = torch.device(\"cuda\" if torch.cuda.is_available() else \"cpu\")\n",
        "\n",
        "# Example Usage\n",
        "# Replace these paths with the appropriate directories containing your crack images and masks\n",
        "image_dir = \"/content/drive/MyDrive/CEE 598 DL/archive/crack_segmentation_dataset/test/images/\"\n",
        "mask_dir = \"/content/drive/MyDrive/CEE 598 DL/archive/crack_segmentation_dataset/test/masks/\"\n",
        "dataset = CrackSegmentationDataset(image_dir, mask_dir)\n",
        "\n",
        "# Check the total size of the dataset\n",
        "total_size = len(dataset)\n",
        "train_size = 400\n",
        "test_size = 100\n",
        "\n",
        "# Verify that the total matches your desired split\n",
        "if train_size + test_size != total_size:\n",
        "    print(f\"Warning: Adjusting train/test split to match dataset length ({total_size})\")\n",
        "    train_size = int(0.6 * total_size)  # Example: 60% for training\n",
        "    test_size = total_size - train_size\n",
        "\n",
        "# Split the dataset into training and testing sets\n",
        "train_dataset, test_dataset = random_split(dataset, [train_size, test_size])\n",
        "\n",
        "# Create DataLoaders for training and testing\n",
        "batch_size = 16\n",
        "train_loader = DataLoader(train_dataset, batch_size=batch_size, shuffle=True, num_workers=4)\n",
        "test_loader = DataLoader(test_dataset, batch_size=batch_size, shuffle=False, num_workers=4)\n",
        "\n",
        "# Move batches to the appropriate device (GPU/CPU) for training set\n",
        "for image_batch, mask_batch in train_loader:\n",
        "    image_batch = image_batch.to(device)\n",
        "    mask_batch = mask_batch.to(device)\n",
        "    print(\"Training Image Batch Shape:\", image_batch.shape)\n",
        "    print(\"Training Mask Batch Shape:\", mask_batch.shape)\n",
        "    break\n",
        "\n",
        "# Move batches to the appropriate device (GPU/CPU) for testing set\n",
        "for image_batch, mask_batch in test_loader:\n",
        "    image_batch = image_batch.to(device)\n",
        "    mask_batch = mask_batch.to(device)\n",
        "    print(\"Testing Image Batch Shape:\", image_batch.shape)\n",
        "    print(\"Testing Mask Batch Shape:\", mask_batch.shape)\n",
        "    break\n"
      ]
    },
    {
      "cell_type": "markdown",
      "metadata": {
        "id": "G4QSglTUp2Sy"
      },
      "source": [
        "fine-tuning"
      ]
    },
    {
      "cell_type": "markdown",
      "metadata": {
        "id": "iVCQZMNk7Tc7"
      },
      "source": [
        "用前面unet的encoder"
      ]
    },
    {
      "cell_type": "code",
      "execution_count": null,
      "metadata": {
        "colab": {
          "base_uri": "https://localhost:8080/"
        },
        "id": "IYYxpZ93dSTU",
        "outputId": "30bd3654-8ddd-419b-8e32-1dffb21c1744"
      },
      "outputs": [
        {
          "data": {
            "text/plain": [
              "ImprovedUNet(\n",
              "  (enc1): Sequential(\n",
              "    (0): Conv2d(3, 32, kernel_size=(3, 3), stride=(1, 1), padding=(1, 1))\n",
              "    (1): BatchNorm2d(32, eps=1e-05, momentum=0.1, affine=True, track_running_stats=True)\n",
              "    (2): ReLU(inplace=True)\n",
              "    (3): Conv2d(32, 32, kernel_size=(3, 3), stride=(1, 1), padding=(1, 1))\n",
              "    (4): BatchNorm2d(32, eps=1e-05, momentum=0.1, affine=True, track_running_stats=True)\n",
              "    (5): ReLU(inplace=True)\n",
              "  )\n",
              "  (pool1): MaxPool2d(kernel_size=2, stride=2, padding=0, dilation=1, ceil_mode=False)\n",
              "  (enc2): Sequential(\n",
              "    (0): Conv2d(32, 64, kernel_size=(3, 3), stride=(1, 1), padding=(1, 1))\n",
              "    (1): BatchNorm2d(64, eps=1e-05, momentum=0.1, affine=True, track_running_stats=True)\n",
              "    (2): ReLU(inplace=True)\n",
              "    (3): Conv2d(64, 64, kernel_size=(3, 3), stride=(1, 1), padding=(1, 1))\n",
              "    (4): BatchNorm2d(64, eps=1e-05, momentum=0.1, affine=True, track_running_stats=True)\n",
              "    (5): ReLU(inplace=True)\n",
              "  )\n",
              "  (pool2): MaxPool2d(kernel_size=2, stride=2, padding=0, dilation=1, ceil_mode=False)\n",
              "  (enc3): Sequential(\n",
              "    (0): Conv2d(64, 128, kernel_size=(3, 3), stride=(1, 1), padding=(1, 1))\n",
              "    (1): BatchNorm2d(128, eps=1e-05, momentum=0.1, affine=True, track_running_stats=True)\n",
              "    (2): ReLU(inplace=True)\n",
              "    (3): Conv2d(128, 128, kernel_size=(3, 3), stride=(1, 1), padding=(1, 1))\n",
              "    (4): BatchNorm2d(128, eps=1e-05, momentum=0.1, affine=True, track_running_stats=True)\n",
              "    (5): ReLU(inplace=True)\n",
              "  )\n",
              "  (pool3): MaxPool2d(kernel_size=2, stride=2, padding=0, dilation=1, ceil_mode=False)\n",
              "  (enc4): Sequential(\n",
              "    (0): Conv2d(128, 256, kernel_size=(3, 3), stride=(1, 1), padding=(1, 1))\n",
              "    (1): BatchNorm2d(256, eps=1e-05, momentum=0.1, affine=True, track_running_stats=True)\n",
              "    (2): ReLU(inplace=True)\n",
              "    (3): Conv2d(256, 256, kernel_size=(3, 3), stride=(1, 1), padding=(1, 1))\n",
              "    (4): BatchNorm2d(256, eps=1e-05, momentum=0.1, affine=True, track_running_stats=True)\n",
              "    (5): ReLU(inplace=True)\n",
              "  )\n",
              "  (pool4): MaxPool2d(kernel_size=2, stride=2, padding=0, dilation=1, ceil_mode=False)\n",
              "  (bottleneck): Conv2d(256, 512, kernel_size=(3, 3), stride=(1, 1), padding=(1, 1))\n",
              "  (dec4): DecoderBlock(\n",
              "    (attention_gate): AttentionGate(\n",
              "      (conv_gate): Conv2d(512, 256, kernel_size=(1, 1), stride=(1, 1))\n",
              "      (bn_gate): BatchNorm2d(256, eps=1e-05, momentum=0.1, affine=True, track_running_stats=True)\n",
              "      (relu): ReLU(inplace=True)\n",
              "      (conv_skip): Conv2d(256, 256, kernel_size=(1, 1), stride=(1, 1))\n",
              "      (bn_skip): BatchNorm2d(256, eps=1e-05, momentum=0.1, affine=True, track_running_stats=True)\n",
              "      (sigmoid): Sigmoid()\n",
              "    )\n",
              "    (upconv): ConvTranspose2d(512, 256, kernel_size=(2, 2), stride=(2, 2))\n",
              "    (residual_block): ResidualBlock(\n",
              "      (projection): Conv2d(512, 256, kernel_size=(1, 1), stride=(1, 1))\n",
              "      (conv1): Conv2d(512, 256, kernel_size=(3, 3), stride=(1, 1), padding=(1, 1))\n",
              "      (bn1): BatchNorm2d(256, eps=1e-05, momentum=0.1, affine=True, track_running_stats=True)\n",
              "      (relu): ReLU(inplace=True)\n",
              "      (conv2): Conv2d(256, 256, kernel_size=(3, 3), stride=(1, 1), padding=(1, 1))\n",
              "      (bn2): BatchNorm2d(256, eps=1e-05, momentum=0.1, affine=True, track_running_stats=True)\n",
              "    )\n",
              "  )\n",
              "  (dec3): DecoderBlock(\n",
              "    (attention_gate): AttentionGate(\n",
              "      (conv_gate): Conv2d(256, 128, kernel_size=(1, 1), stride=(1, 1))\n",
              "      (bn_gate): BatchNorm2d(128, eps=1e-05, momentum=0.1, affine=True, track_running_stats=True)\n",
              "      (relu): ReLU(inplace=True)\n",
              "      (conv_skip): Conv2d(128, 128, kernel_size=(1, 1), stride=(1, 1))\n",
              "      (bn_skip): BatchNorm2d(128, eps=1e-05, momentum=0.1, affine=True, track_running_stats=True)\n",
              "      (sigmoid): Sigmoid()\n",
              "    )\n",
              "    (upconv): ConvTranspose2d(256, 128, kernel_size=(2, 2), stride=(2, 2))\n",
              "    (residual_block): ResidualBlock(\n",
              "      (projection): Conv2d(256, 128, kernel_size=(1, 1), stride=(1, 1))\n",
              "      (conv1): Conv2d(256, 128, kernel_size=(3, 3), stride=(1, 1), padding=(1, 1))\n",
              "      (bn1): BatchNorm2d(128, eps=1e-05, momentum=0.1, affine=True, track_running_stats=True)\n",
              "      (relu): ReLU(inplace=True)\n",
              "      (conv2): Conv2d(128, 128, kernel_size=(3, 3), stride=(1, 1), padding=(1, 1))\n",
              "      (bn2): BatchNorm2d(128, eps=1e-05, momentum=0.1, affine=True, track_running_stats=True)\n",
              "    )\n",
              "  )\n",
              "  (dec2): DecoderBlock(\n",
              "    (attention_gate): AttentionGate(\n",
              "      (conv_gate): Conv2d(128, 64, kernel_size=(1, 1), stride=(1, 1))\n",
              "      (bn_gate): BatchNorm2d(64, eps=1e-05, momentum=0.1, affine=True, track_running_stats=True)\n",
              "      (relu): ReLU(inplace=True)\n",
              "      (conv_skip): Conv2d(64, 64, kernel_size=(1, 1), stride=(1, 1))\n",
              "      (bn_skip): BatchNorm2d(64, eps=1e-05, momentum=0.1, affine=True, track_running_stats=True)\n",
              "      (sigmoid): Sigmoid()\n",
              "    )\n",
              "    (upconv): ConvTranspose2d(128, 64, kernel_size=(2, 2), stride=(2, 2))\n",
              "    (residual_block): ResidualBlock(\n",
              "      (projection): Conv2d(128, 64, kernel_size=(1, 1), stride=(1, 1))\n",
              "      (conv1): Conv2d(128, 64, kernel_size=(3, 3), stride=(1, 1), padding=(1, 1))\n",
              "      (bn1): BatchNorm2d(64, eps=1e-05, momentum=0.1, affine=True, track_running_stats=True)\n",
              "      (relu): ReLU(inplace=True)\n",
              "      (conv2): Conv2d(64, 64, kernel_size=(3, 3), stride=(1, 1), padding=(1, 1))\n",
              "      (bn2): BatchNorm2d(64, eps=1e-05, momentum=0.1, affine=True, track_running_stats=True)\n",
              "    )\n",
              "  )\n",
              "  (dec1): DecoderBlock(\n",
              "    (attention_gate): AttentionGate(\n",
              "      (conv_gate): Conv2d(64, 32, kernel_size=(1, 1), stride=(1, 1))\n",
              "      (bn_gate): BatchNorm2d(32, eps=1e-05, momentum=0.1, affine=True, track_running_stats=True)\n",
              "      (relu): ReLU(inplace=True)\n",
              "      (conv_skip): Conv2d(32, 32, kernel_size=(1, 1), stride=(1, 1))\n",
              "      (bn_skip): BatchNorm2d(32, eps=1e-05, momentum=0.1, affine=True, track_running_stats=True)\n",
              "      (sigmoid): Sigmoid()\n",
              "    )\n",
              "    (upconv): ConvTranspose2d(64, 32, kernel_size=(2, 2), stride=(2, 2))\n",
              "    (residual_block): ResidualBlock(\n",
              "      (projection): Conv2d(64, 32, kernel_size=(1, 1), stride=(1, 1))\n",
              "      (conv1): Conv2d(64, 32, kernel_size=(3, 3), stride=(1, 1), padding=(1, 1))\n",
              "      (bn1): BatchNorm2d(32, eps=1e-05, momentum=0.1, affine=True, track_running_stats=True)\n",
              "      (relu): ReLU(inplace=True)\n",
              "      (conv2): Conv2d(32, 32, kernel_size=(3, 3), stride=(1, 1), padding=(1, 1))\n",
              "      (bn2): BatchNorm2d(32, eps=1e-05, momentum=0.1, affine=True, track_running_stats=True)\n",
              "    )\n",
              "  )\n",
              "  (final): Conv2d(32, 1, kernel_size=(1, 1), stride=(1, 1))\n",
              ")"
            ]
          },
          "execution_count": 112,
          "metadata": {},
          "output_type": "execute_result"
        }
      ],
      "source": [
        "\n",
        "# Residual Block with Debugging\n",
        "class ResidualBlock(nn.Module):\n",
        "    def __init__(self, in_channels, num_filters):\n",
        "        super(ResidualBlock, self).__init__()\n",
        "        self.projection = None\n",
        "        if in_channels != num_filters:\n",
        "            self.projection = nn.Conv2d(in_channels, num_filters, kernel_size=1, stride=1)\n",
        "\n",
        "        self.conv1 = nn.Conv2d(in_channels, num_filters, kernel_size=3, padding=1)\n",
        "        self.bn1 = nn.BatchNorm2d(num_filters)\n",
        "        self.relu = nn.ReLU(inplace=True)\n",
        "        self.conv2 = nn.Conv2d(num_filters, num_filters, kernel_size=3, padding=1)\n",
        "        self.bn2 = nn.BatchNorm2d(num_filters)\n",
        "\n",
        "    def forward(self, x):\n",
        "        #print(f\"Input shape to ResidualBlock: {x.shape}\")\n",
        "        shortcut = x\n",
        "        if self.projection:\n",
        "            shortcut = self.projection(x)\n",
        "\n",
        "        out = self.conv1(x)\n",
        "        out = self.bn1(out)\n",
        "        out = self.relu(out)\n",
        "\n",
        "        out = self.conv2(out)\n",
        "        out = self.bn2(out)\n",
        "\n",
        "        out += shortcut\n",
        "        return self.relu(out)\n",
        "\n",
        "# Attention Gate\n",
        "class AttentionGate(nn.Module):\n",
        "    def __init__(self, skip_channels, gate_channels, out_channels):\n",
        "        super(AttentionGate, self).__init__()\n",
        "        # Match the number of channels correctly\n",
        "        self.conv_gate = nn.Conv2d(gate_channels, out_channels, kernel_size=1)\n",
        "        self.bn_gate = nn.BatchNorm2d(out_channels)\n",
        "        self.relu = nn.ReLU(inplace=True)\n",
        "\n",
        "        self.conv_skip = nn.Conv2d(skip_channels, out_channels, kernel_size=1)\n",
        "        self.bn_skip = nn.BatchNorm2d(out_channels)\n",
        "        self.sigmoid = nn.Sigmoid()\n",
        "\n",
        "    def forward(self, skip, gate):\n",
        "        skip_resized = F.interpolate(skip, size=gate.shape[2:], mode='bilinear', align_corners=False)\n",
        "\n",
        "        # Adjust the gate and skip to have the same dimensions\n",
        "        gate_resized = self.conv_gate(gate)\n",
        "        gate_resized = self.bn_gate(gate_resized)\n",
        "        gate_resized = self.relu(gate_resized)\n",
        "\n",
        "        skip_resized = self.conv_skip(skip)\n",
        "        skip_resized = self.bn_skip(skip_resized)\n",
        "\n",
        "        # Combine the skip and gate tensors\n",
        "        attention = self.sigmoid(gate_resized + skip_resized)\n",
        "\n",
        "        # Multiply by the skip tensor\n",
        "        return skip * attention\n",
        "\n",
        "\n",
        "class DecoderBlock(nn.Module):\n",
        "    def __init__(self, in_channels, skip_channels, out_channels):\n",
        "        super(DecoderBlock, self).__init__()\n",
        "        # Adjust attention gate to receive the correct number of input channels\n",
        "        self.attention_gate = AttentionGate(skip_channels, out_channels, out_channels)\n",
        "        # Upsample input channels to expected size\n",
        "        self.upconv = nn.ConvTranspose2d(in_channels, out_channels, kernel_size=2, stride=2)\n",
        "        # Ensure that the residual block receives the correct input channels\n",
        "        self.residual_block = ResidualBlock(out_channels + skip_channels, out_channels)\n",
        "\n",
        "    def forward(self, x, skip):\n",
        "        #print(f\"Shape of x before upconv: {x.shape}\")\n",
        "        x = self.upconv(x)\n",
        "        #print(f\"Shape of x after upconv: {x.shape}\")\n",
        "\n",
        "        # Apply the attention gate to align the skip connection channels\n",
        "        skip = self.attention_gate(skip, x)\n",
        "        #print(f\"Shape of skip after attention gate: {skip.shape}\")\n",
        "\n",
        "        # Concatenate the skip connection and the upsampled feature map\n",
        "        x = torch.cat([x, skip], dim=1)\n",
        "        #print(f\"Shape of x after concatenation: {x.shape}\")\n",
        "\n",
        "        # Pass through the residual block\n",
        "        x = self.residual_block(x)\n",
        "        #print(f\"Shape of x after residual block: {x.shape}\")\n",
        "        return x\n",
        "\n",
        "\n",
        "\n",
        "# ImprovedUNet Model\n",
        "class ImprovedUNet(nn.Module):\n",
        "    def __init__(self, in_channels=3, out_channels=1, features=32):\n",
        "        super(ImprovedUNet, self).__init__()\n",
        "        self.enc1 = conv_block(in_channels, features)\n",
        "        self.pool1 = nn.MaxPool2d(2, 2)\n",
        "        self.enc2 = conv_block(features, features * 2)\n",
        "        self.pool2 = nn.MaxPool2d(2, 2)\n",
        "        self.enc3 = conv_block(features * 2, features * 4)\n",
        "        self.pool3 = nn.MaxPool2d(2, 2)\n",
        "        self.enc4 = conv_block(features * 4, features * 8)\n",
        "        self.pool4 = nn.MaxPool2d(2, 2)\n",
        "\n",
        "        # Bottleneck layer\n",
        "        self.bottleneck = nn.Conv2d(features * 8, features * 16, kernel_size=3, padding=1)   #padding =1 keeps feature map height & width unchanged\n",
        "\n",
        "        self.dec4 = DecoderBlock(features * 16, features * 8, features * 8)\n",
        "        self.dec3 = DecoderBlock(features * 8, features * 4, features * 4)\n",
        "        self.dec2 = DecoderBlock(features * 4, features * 2, features * 2)\n",
        "        self.dec1 = DecoderBlock(features * 2, features, features)\n",
        "\n",
        "        self.final = nn.Conv2d(features, out_channels, kernel_size=1)\n",
        "\n",
        "    def forward(self, x):\n",
        "        enc1 = self.enc1(x)\n",
        "        #print(f\"Shape of enc1: {enc1.shape}\")\n",
        "        p1 = self.pool1(enc1)\n",
        "        enc2 = self.enc2(p1)\n",
        "        #print(f\"Shape of enc2: {enc2.shape}\")\n",
        "        p2 = self.pool2(enc2)\n",
        "        enc3 = self.enc3(p2)\n",
        "        #print(f\"Shape of enc3: {enc3.shape}\")\n",
        "        p3 = self.pool3(enc3)\n",
        "        enc4 = self.enc4(p3)\n",
        "        #print(f\"Shape of enc4: {enc4.shape}\")\n",
        "        p4 = self.pool4(enc4)\n",
        "\n",
        "        bottleneck = self.bottleneck(p4)\n",
        "        #print(f\"Shape of bottleneck: {bottleneck.shape}\")  #  expect 512, [batch_size, num_channels, height, width]-[16, 512, 7, 7]\n",
        "\n",
        "        dec4 = self.dec4(bottleneck, enc4)\n",
        "        #print(f\"Shape of dec4: {dec4.shape}\")\n",
        "        dec3 = self.dec3(dec4, enc3)\n",
        "        #print(f\"Shape of dec3: {dec3.shape}\")\n",
        "        dec2 = self.dec2(dec3, enc2)\n",
        "        #print(f\"Shape of dec2: {dec2.shape}\")\n",
        "        dec1 = self.dec1(dec2, enc1)\n",
        "        #print(f\"Shape of dec1: {dec1.shape}\")\n",
        "\n",
        "        final_output = torch.sigmoid(self.final(dec1))\n",
        "        #print(f\"Shape of final output: {final_output.shape}\")\n",
        "        return final_output\n",
        "\n",
        "\n",
        "\n",
        "# Model instantiation and device selection\n",
        "device = torch.device(\"cuda\" if torch.cuda.is_available() else \"cpu\")\n",
        "model = ImprovedUNet(in_channels=3, out_channels=1, features=32)\n",
        "model.to(device)\n"
      ]
    },
    {
      "cell_type": "markdown",
      "metadata": {
        "id": "gJGc2E9e8peL"
      },
      "source": [
        "fine-tuning train"
      ]
    },
    {
      "cell_type": "code",
      "execution_count": 113,
      "metadata": {
        "colab": {
          "base_uri": "https://localhost:8080/",
          "height": 478
        },
        "id": "aeWXEjQ7VX4f",
        "outputId": "ee0e7b73-79b7-4115-a6a4-e0ef590ccad5"
      },
      "outputs": [
        {
          "name": "stdout",
          "output_type": "stream",
          "text": [
            "Shape of enc1: torch.Size([16, 32, 112, 112])\n",
            "Shape of enc2: torch.Size([16, 64, 56, 56])\n",
            "Shape of enc3: torch.Size([16, 128, 28, 28])\n",
            "Shape of enc4: torch.Size([16, 256, 14, 14])\n",
            "Shape of bottleneck: torch.Size([16, 512, 7, 7])\n",
            "Shape of x before upconv: torch.Size([16, 512, 7, 7])\n",
            "Shape of x after upconv: torch.Size([16, 256, 14, 14])\n"
          ]
        },
        {
          "ename": "RuntimeError",
          "evalue": "Given groups=1, weight of size [256, 512, 1, 1], expected input[16, 256, 14, 14] to have 512 channels, but got 256 channels instead",
          "output_type": "error",
          "traceback": [
            "\u001b[0;31m---------------------------------------------------------------------------\u001b[0m",
            "\u001b[0;31mRuntimeError\u001b[0m                              Traceback (most recent call last)",
            "\u001b[0;32m<ipython-input-113-bc5acd9afbb1>\u001b[0m in \u001b[0;36m<cell line: 76>\u001b[0;34m()\u001b[0m\n\u001b[1;32m     74\u001b[0m \u001b[0;31m# Fine-tune the model\u001b[0m\u001b[0;34m\u001b[0m\u001b[0;34m\u001b[0m\u001b[0m\n\u001b[1;32m     75\u001b[0m \u001b[0mnum_epochs\u001b[0m \u001b[0;34m=\u001b[0m \u001b[0;36m10\u001b[0m  \u001b[0;31m# Adjust as needed\u001b[0m\u001b[0;34m\u001b[0m\u001b[0;34m\u001b[0m\u001b[0m\n\u001b[0;32m---> 76\u001b[0;31m \u001b[0mtrain_model\u001b[0m\u001b[0;34m(\u001b[0m\u001b[0mmodel\u001b[0m\u001b[0;34m,\u001b[0m \u001b[0mtrain_loader\u001b[0m\u001b[0;34m,\u001b[0m \u001b[0mcriterion\u001b[0m\u001b[0;34m,\u001b[0m \u001b[0moptimizer\u001b[0m\u001b[0;34m,\u001b[0m \u001b[0mnum_epochs\u001b[0m\u001b[0;34m)\u001b[0m\u001b[0;34m\u001b[0m\u001b[0;34m\u001b[0m\u001b[0m\n\u001b[0m\u001b[1;32m     77\u001b[0m \u001b[0;34m\u001b[0m\u001b[0m\n\u001b[1;32m     78\u001b[0m \u001b[0;31m# Evaluate the model on the test dataset\u001b[0m\u001b[0;34m\u001b[0m\u001b[0;34m\u001b[0m\u001b[0m\n",
            "\u001b[0;32m<ipython-input-113-bc5acd9afbb1>\u001b[0m in \u001b[0;36mtrain_model\u001b[0;34m(model, train_loader, criterion, optimizer, num_epochs)\u001b[0m\n\u001b[1;32m     38\u001b[0m \u001b[0;34m\u001b[0m\u001b[0m\n\u001b[1;32m     39\u001b[0m             \u001b[0;31m# Forward pass\u001b[0m\u001b[0;34m\u001b[0m\u001b[0;34m\u001b[0m\u001b[0m\n\u001b[0;32m---> 40\u001b[0;31m             \u001b[0moutputs\u001b[0m \u001b[0;34m=\u001b[0m \u001b[0mmodel\u001b[0m\u001b[0;34m(\u001b[0m\u001b[0mimages\u001b[0m\u001b[0;34m)\u001b[0m\u001b[0;34m\u001b[0m\u001b[0;34m\u001b[0m\u001b[0m\n\u001b[0m\u001b[1;32m     41\u001b[0m             \u001b[0mloss\u001b[0m \u001b[0;34m=\u001b[0m \u001b[0mcriterion\u001b[0m\u001b[0;34m(\u001b[0m\u001b[0moutputs\u001b[0m\u001b[0;34m,\u001b[0m \u001b[0mmasks\u001b[0m\u001b[0;34m)\u001b[0m\u001b[0;34m\u001b[0m\u001b[0;34m\u001b[0m\u001b[0m\n\u001b[1;32m     42\u001b[0m \u001b[0;34m\u001b[0m\u001b[0m\n",
            "\u001b[0;32m/usr/local/lib/python3.10/dist-packages/torch/nn/modules/module.py\u001b[0m in \u001b[0;36m_wrapped_call_impl\u001b[0;34m(self, *args, **kwargs)\u001b[0m\n\u001b[1;32m   1509\u001b[0m             \u001b[0;32mreturn\u001b[0m \u001b[0mself\u001b[0m\u001b[0;34m.\u001b[0m\u001b[0m_compiled_call_impl\u001b[0m\u001b[0;34m(\u001b[0m\u001b[0;34m*\u001b[0m\u001b[0margs\u001b[0m\u001b[0;34m,\u001b[0m \u001b[0;34m**\u001b[0m\u001b[0mkwargs\u001b[0m\u001b[0;34m)\u001b[0m  \u001b[0;31m# type: ignore[misc]\u001b[0m\u001b[0;34m\u001b[0m\u001b[0;34m\u001b[0m\u001b[0m\n\u001b[1;32m   1510\u001b[0m         \u001b[0;32melse\u001b[0m\u001b[0;34m:\u001b[0m\u001b[0;34m\u001b[0m\u001b[0;34m\u001b[0m\u001b[0m\n\u001b[0;32m-> 1511\u001b[0;31m             \u001b[0;32mreturn\u001b[0m \u001b[0mself\u001b[0m\u001b[0;34m.\u001b[0m\u001b[0m_call_impl\u001b[0m\u001b[0;34m(\u001b[0m\u001b[0;34m*\u001b[0m\u001b[0margs\u001b[0m\u001b[0;34m,\u001b[0m \u001b[0;34m**\u001b[0m\u001b[0mkwargs\u001b[0m\u001b[0;34m)\u001b[0m\u001b[0;34m\u001b[0m\u001b[0;34m\u001b[0m\u001b[0m\n\u001b[0m\u001b[1;32m   1512\u001b[0m \u001b[0;34m\u001b[0m\u001b[0m\n\u001b[1;32m   1513\u001b[0m     \u001b[0;32mdef\u001b[0m \u001b[0m_call_impl\u001b[0m\u001b[0;34m(\u001b[0m\u001b[0mself\u001b[0m\u001b[0;34m,\u001b[0m \u001b[0;34m*\u001b[0m\u001b[0margs\u001b[0m\u001b[0;34m,\u001b[0m \u001b[0;34m**\u001b[0m\u001b[0mkwargs\u001b[0m\u001b[0;34m)\u001b[0m\u001b[0;34m:\u001b[0m\u001b[0;34m\u001b[0m\u001b[0;34m\u001b[0m\u001b[0m\n",
            "\u001b[0;32m/usr/local/lib/python3.10/dist-packages/torch/nn/modules/module.py\u001b[0m in \u001b[0;36m_call_impl\u001b[0;34m(self, *args, **kwargs)\u001b[0m\n\u001b[1;32m   1518\u001b[0m                 \u001b[0;32mor\u001b[0m \u001b[0m_global_backward_pre_hooks\u001b[0m \u001b[0;32mor\u001b[0m \u001b[0m_global_backward_hooks\u001b[0m\u001b[0;34m\u001b[0m\u001b[0;34m\u001b[0m\u001b[0m\n\u001b[1;32m   1519\u001b[0m                 or _global_forward_hooks or _global_forward_pre_hooks):\n\u001b[0;32m-> 1520\u001b[0;31m             \u001b[0;32mreturn\u001b[0m \u001b[0mforward_call\u001b[0m\u001b[0;34m(\u001b[0m\u001b[0;34m*\u001b[0m\u001b[0margs\u001b[0m\u001b[0;34m,\u001b[0m \u001b[0;34m**\u001b[0m\u001b[0mkwargs\u001b[0m\u001b[0;34m)\u001b[0m\u001b[0;34m\u001b[0m\u001b[0;34m\u001b[0m\u001b[0m\n\u001b[0m\u001b[1;32m   1521\u001b[0m \u001b[0;34m\u001b[0m\u001b[0m\n\u001b[1;32m   1522\u001b[0m         \u001b[0;32mtry\u001b[0m\u001b[0;34m:\u001b[0m\u001b[0;34m\u001b[0m\u001b[0;34m\u001b[0m\u001b[0m\n",
            "\u001b[0;32m<ipython-input-112-4fdd023c1725>\u001b[0m in \u001b[0;36mforward\u001b[0;34m(self, x)\u001b[0m\n\u001b[1;32m    130\u001b[0m         \u001b[0mprint\u001b[0m\u001b[0;34m(\u001b[0m\u001b[0;34mf\"Shape of bottleneck: {bottleneck.shape}\"\u001b[0m\u001b[0;34m)\u001b[0m  \u001b[0;31m#  expect 512, [batch_size, num_channels, height, width]-[16, 512, 7, 7]\u001b[0m\u001b[0;34m\u001b[0m\u001b[0;34m\u001b[0m\u001b[0m\n\u001b[1;32m    131\u001b[0m \u001b[0;34m\u001b[0m\u001b[0m\n\u001b[0;32m--> 132\u001b[0;31m         \u001b[0mdec4\u001b[0m \u001b[0;34m=\u001b[0m \u001b[0mself\u001b[0m\u001b[0;34m.\u001b[0m\u001b[0mdec4\u001b[0m\u001b[0;34m(\u001b[0m\u001b[0mbottleneck\u001b[0m\u001b[0;34m,\u001b[0m \u001b[0menc4\u001b[0m\u001b[0;34m)\u001b[0m\u001b[0;34m\u001b[0m\u001b[0;34m\u001b[0m\u001b[0m\n\u001b[0m\u001b[1;32m    133\u001b[0m         \u001b[0mprint\u001b[0m\u001b[0;34m(\u001b[0m\u001b[0;34mf\"Shape of dec4: {dec4.shape}\"\u001b[0m\u001b[0;34m)\u001b[0m\u001b[0;34m\u001b[0m\u001b[0;34m\u001b[0m\u001b[0m\n\u001b[1;32m    134\u001b[0m         \u001b[0mdec3\u001b[0m \u001b[0;34m=\u001b[0m \u001b[0mself\u001b[0m\u001b[0;34m.\u001b[0m\u001b[0mdec3\u001b[0m\u001b[0;34m(\u001b[0m\u001b[0mdec4\u001b[0m\u001b[0;34m,\u001b[0m \u001b[0menc3\u001b[0m\u001b[0;34m)\u001b[0m\u001b[0;34m\u001b[0m\u001b[0;34m\u001b[0m\u001b[0m\n",
            "\u001b[0;32m/usr/local/lib/python3.10/dist-packages/torch/nn/modules/module.py\u001b[0m in \u001b[0;36m_wrapped_call_impl\u001b[0;34m(self, *args, **kwargs)\u001b[0m\n\u001b[1;32m   1509\u001b[0m             \u001b[0;32mreturn\u001b[0m \u001b[0mself\u001b[0m\u001b[0;34m.\u001b[0m\u001b[0m_compiled_call_impl\u001b[0m\u001b[0;34m(\u001b[0m\u001b[0;34m*\u001b[0m\u001b[0margs\u001b[0m\u001b[0;34m,\u001b[0m \u001b[0;34m**\u001b[0m\u001b[0mkwargs\u001b[0m\u001b[0;34m)\u001b[0m  \u001b[0;31m# type: ignore[misc]\u001b[0m\u001b[0;34m\u001b[0m\u001b[0;34m\u001b[0m\u001b[0m\n\u001b[1;32m   1510\u001b[0m         \u001b[0;32melse\u001b[0m\u001b[0;34m:\u001b[0m\u001b[0;34m\u001b[0m\u001b[0;34m\u001b[0m\u001b[0m\n\u001b[0;32m-> 1511\u001b[0;31m             \u001b[0;32mreturn\u001b[0m \u001b[0mself\u001b[0m\u001b[0;34m.\u001b[0m\u001b[0m_call_impl\u001b[0m\u001b[0;34m(\u001b[0m\u001b[0;34m*\u001b[0m\u001b[0margs\u001b[0m\u001b[0;34m,\u001b[0m \u001b[0;34m**\u001b[0m\u001b[0mkwargs\u001b[0m\u001b[0;34m)\u001b[0m\u001b[0;34m\u001b[0m\u001b[0;34m\u001b[0m\u001b[0m\n\u001b[0m\u001b[1;32m   1512\u001b[0m \u001b[0;34m\u001b[0m\u001b[0m\n\u001b[1;32m   1513\u001b[0m     \u001b[0;32mdef\u001b[0m \u001b[0m_call_impl\u001b[0m\u001b[0;34m(\u001b[0m\u001b[0mself\u001b[0m\u001b[0;34m,\u001b[0m \u001b[0;34m*\u001b[0m\u001b[0margs\u001b[0m\u001b[0;34m,\u001b[0m \u001b[0;34m**\u001b[0m\u001b[0mkwargs\u001b[0m\u001b[0;34m)\u001b[0m\u001b[0;34m:\u001b[0m\u001b[0;34m\u001b[0m\u001b[0;34m\u001b[0m\u001b[0m\n",
            "\u001b[0;32m/usr/local/lib/python3.10/dist-packages/torch/nn/modules/module.py\u001b[0m in \u001b[0;36m_call_impl\u001b[0;34m(self, *args, **kwargs)\u001b[0m\n\u001b[1;32m   1518\u001b[0m                 \u001b[0;32mor\u001b[0m \u001b[0m_global_backward_pre_hooks\u001b[0m \u001b[0;32mor\u001b[0m \u001b[0m_global_backward_hooks\u001b[0m\u001b[0;34m\u001b[0m\u001b[0;34m\u001b[0m\u001b[0m\n\u001b[1;32m   1519\u001b[0m                 or _global_forward_hooks or _global_forward_pre_hooks):\n\u001b[0;32m-> 1520\u001b[0;31m             \u001b[0;32mreturn\u001b[0m \u001b[0mforward_call\u001b[0m\u001b[0;34m(\u001b[0m\u001b[0;34m*\u001b[0m\u001b[0margs\u001b[0m\u001b[0;34m,\u001b[0m \u001b[0;34m**\u001b[0m\u001b[0mkwargs\u001b[0m\u001b[0;34m)\u001b[0m\u001b[0;34m\u001b[0m\u001b[0;34m\u001b[0m\u001b[0m\n\u001b[0m\u001b[1;32m   1521\u001b[0m \u001b[0;34m\u001b[0m\u001b[0m\n\u001b[1;32m   1522\u001b[0m         \u001b[0;32mtry\u001b[0m\u001b[0;34m:\u001b[0m\u001b[0;34m\u001b[0m\u001b[0;34m\u001b[0m\u001b[0m\n",
            "\u001b[0;32m<ipython-input-112-4fdd023c1725>\u001b[0m in \u001b[0;36mforward\u001b[0;34m(self, x, skip)\u001b[0m\n\u001b[1;32m     76\u001b[0m \u001b[0;34m\u001b[0m\u001b[0m\n\u001b[1;32m     77\u001b[0m         \u001b[0;31m# Apply the attention gate to align the skip connection channels\u001b[0m\u001b[0;34m\u001b[0m\u001b[0;34m\u001b[0m\u001b[0m\n\u001b[0;32m---> 78\u001b[0;31m         \u001b[0mskip\u001b[0m \u001b[0;34m=\u001b[0m \u001b[0mself\u001b[0m\u001b[0;34m.\u001b[0m\u001b[0mattention_gate\u001b[0m\u001b[0;34m(\u001b[0m\u001b[0mskip\u001b[0m\u001b[0;34m,\u001b[0m \u001b[0mx\u001b[0m\u001b[0;34m)\u001b[0m\u001b[0;34m\u001b[0m\u001b[0;34m\u001b[0m\u001b[0m\n\u001b[0m\u001b[1;32m     79\u001b[0m         \u001b[0mprint\u001b[0m\u001b[0;34m(\u001b[0m\u001b[0;34mf\"Shape of skip after attention gate: {skip.shape}\"\u001b[0m\u001b[0;34m)\u001b[0m\u001b[0;34m\u001b[0m\u001b[0;34m\u001b[0m\u001b[0m\n\u001b[1;32m     80\u001b[0m \u001b[0;34m\u001b[0m\u001b[0m\n",
            "\u001b[0;32m/usr/local/lib/python3.10/dist-packages/torch/nn/modules/module.py\u001b[0m in \u001b[0;36m_wrapped_call_impl\u001b[0;34m(self, *args, **kwargs)\u001b[0m\n\u001b[1;32m   1509\u001b[0m             \u001b[0;32mreturn\u001b[0m \u001b[0mself\u001b[0m\u001b[0;34m.\u001b[0m\u001b[0m_compiled_call_impl\u001b[0m\u001b[0;34m(\u001b[0m\u001b[0;34m*\u001b[0m\u001b[0margs\u001b[0m\u001b[0;34m,\u001b[0m \u001b[0;34m**\u001b[0m\u001b[0mkwargs\u001b[0m\u001b[0;34m)\u001b[0m  \u001b[0;31m# type: ignore[misc]\u001b[0m\u001b[0;34m\u001b[0m\u001b[0;34m\u001b[0m\u001b[0m\n\u001b[1;32m   1510\u001b[0m         \u001b[0;32melse\u001b[0m\u001b[0;34m:\u001b[0m\u001b[0;34m\u001b[0m\u001b[0;34m\u001b[0m\u001b[0m\n\u001b[0;32m-> 1511\u001b[0;31m             \u001b[0;32mreturn\u001b[0m \u001b[0mself\u001b[0m\u001b[0;34m.\u001b[0m\u001b[0m_call_impl\u001b[0m\u001b[0;34m(\u001b[0m\u001b[0;34m*\u001b[0m\u001b[0margs\u001b[0m\u001b[0;34m,\u001b[0m \u001b[0;34m**\u001b[0m\u001b[0mkwargs\u001b[0m\u001b[0;34m)\u001b[0m\u001b[0;34m\u001b[0m\u001b[0;34m\u001b[0m\u001b[0m\n\u001b[0m\u001b[1;32m   1512\u001b[0m \u001b[0;34m\u001b[0m\u001b[0m\n\u001b[1;32m   1513\u001b[0m     \u001b[0;32mdef\u001b[0m \u001b[0m_call_impl\u001b[0m\u001b[0;34m(\u001b[0m\u001b[0mself\u001b[0m\u001b[0;34m,\u001b[0m \u001b[0;34m*\u001b[0m\u001b[0margs\u001b[0m\u001b[0;34m,\u001b[0m \u001b[0;34m**\u001b[0m\u001b[0mkwargs\u001b[0m\u001b[0;34m)\u001b[0m\u001b[0;34m:\u001b[0m\u001b[0;34m\u001b[0m\u001b[0;34m\u001b[0m\u001b[0m\n",
            "\u001b[0;32m/usr/local/lib/python3.10/dist-packages/torch/nn/modules/module.py\u001b[0m in \u001b[0;36m_call_impl\u001b[0;34m(self, *args, **kwargs)\u001b[0m\n\u001b[1;32m   1518\u001b[0m                 \u001b[0;32mor\u001b[0m \u001b[0m_global_backward_pre_hooks\u001b[0m \u001b[0;32mor\u001b[0m \u001b[0m_global_backward_hooks\u001b[0m\u001b[0;34m\u001b[0m\u001b[0;34m\u001b[0m\u001b[0m\n\u001b[1;32m   1519\u001b[0m                 or _global_forward_hooks or _global_forward_pre_hooks):\n\u001b[0;32m-> 1520\u001b[0;31m             \u001b[0;32mreturn\u001b[0m \u001b[0mforward_call\u001b[0m\u001b[0;34m(\u001b[0m\u001b[0;34m*\u001b[0m\u001b[0margs\u001b[0m\u001b[0;34m,\u001b[0m \u001b[0;34m**\u001b[0m\u001b[0mkwargs\u001b[0m\u001b[0;34m)\u001b[0m\u001b[0;34m\u001b[0m\u001b[0;34m\u001b[0m\u001b[0m\n\u001b[0m\u001b[1;32m   1521\u001b[0m \u001b[0;34m\u001b[0m\u001b[0m\n\u001b[1;32m   1522\u001b[0m         \u001b[0;32mtry\u001b[0m\u001b[0;34m:\u001b[0m\u001b[0;34m\u001b[0m\u001b[0;34m\u001b[0m\u001b[0m\n",
            "\u001b[0;32m<ipython-input-112-4fdd023c1725>\u001b[0m in \u001b[0;36mforward\u001b[0;34m(self, skip, gate)\u001b[0m\n\u001b[1;32m     46\u001b[0m \u001b[0;34m\u001b[0m\u001b[0m\n\u001b[1;32m     47\u001b[0m         \u001b[0;31m# Adjust the gate and skip to have the same dimensions\u001b[0m\u001b[0;34m\u001b[0m\u001b[0;34m\u001b[0m\u001b[0m\n\u001b[0;32m---> 48\u001b[0;31m         \u001b[0mgate_resized\u001b[0m \u001b[0;34m=\u001b[0m \u001b[0mself\u001b[0m\u001b[0;34m.\u001b[0m\u001b[0mconv_gate\u001b[0m\u001b[0;34m(\u001b[0m\u001b[0mgate\u001b[0m\u001b[0;34m)\u001b[0m\u001b[0;34m\u001b[0m\u001b[0;34m\u001b[0m\u001b[0m\n\u001b[0m\u001b[1;32m     49\u001b[0m         \u001b[0mgate_resized\u001b[0m \u001b[0;34m=\u001b[0m \u001b[0mself\u001b[0m\u001b[0;34m.\u001b[0m\u001b[0mbn_gate\u001b[0m\u001b[0;34m(\u001b[0m\u001b[0mgate_resized\u001b[0m\u001b[0;34m)\u001b[0m\u001b[0;34m\u001b[0m\u001b[0;34m\u001b[0m\u001b[0m\n\u001b[1;32m     50\u001b[0m         \u001b[0mgate_resized\u001b[0m \u001b[0;34m=\u001b[0m \u001b[0mself\u001b[0m\u001b[0;34m.\u001b[0m\u001b[0mrelu\u001b[0m\u001b[0;34m(\u001b[0m\u001b[0mgate_resized\u001b[0m\u001b[0;34m)\u001b[0m\u001b[0;34m\u001b[0m\u001b[0;34m\u001b[0m\u001b[0m\n",
            "\u001b[0;32m/usr/local/lib/python3.10/dist-packages/torch/nn/modules/module.py\u001b[0m in \u001b[0;36m_wrapped_call_impl\u001b[0;34m(self, *args, **kwargs)\u001b[0m\n\u001b[1;32m   1509\u001b[0m             \u001b[0;32mreturn\u001b[0m \u001b[0mself\u001b[0m\u001b[0;34m.\u001b[0m\u001b[0m_compiled_call_impl\u001b[0m\u001b[0;34m(\u001b[0m\u001b[0;34m*\u001b[0m\u001b[0margs\u001b[0m\u001b[0;34m,\u001b[0m \u001b[0;34m**\u001b[0m\u001b[0mkwargs\u001b[0m\u001b[0;34m)\u001b[0m  \u001b[0;31m# type: ignore[misc]\u001b[0m\u001b[0;34m\u001b[0m\u001b[0;34m\u001b[0m\u001b[0m\n\u001b[1;32m   1510\u001b[0m         \u001b[0;32melse\u001b[0m\u001b[0;34m:\u001b[0m\u001b[0;34m\u001b[0m\u001b[0;34m\u001b[0m\u001b[0m\n\u001b[0;32m-> 1511\u001b[0;31m             \u001b[0;32mreturn\u001b[0m \u001b[0mself\u001b[0m\u001b[0;34m.\u001b[0m\u001b[0m_call_impl\u001b[0m\u001b[0;34m(\u001b[0m\u001b[0;34m*\u001b[0m\u001b[0margs\u001b[0m\u001b[0;34m,\u001b[0m \u001b[0;34m**\u001b[0m\u001b[0mkwargs\u001b[0m\u001b[0;34m)\u001b[0m\u001b[0;34m\u001b[0m\u001b[0;34m\u001b[0m\u001b[0m\n\u001b[0m\u001b[1;32m   1512\u001b[0m \u001b[0;34m\u001b[0m\u001b[0m\n\u001b[1;32m   1513\u001b[0m     \u001b[0;32mdef\u001b[0m \u001b[0m_call_impl\u001b[0m\u001b[0;34m(\u001b[0m\u001b[0mself\u001b[0m\u001b[0;34m,\u001b[0m \u001b[0;34m*\u001b[0m\u001b[0margs\u001b[0m\u001b[0;34m,\u001b[0m \u001b[0;34m**\u001b[0m\u001b[0mkwargs\u001b[0m\u001b[0;34m)\u001b[0m\u001b[0;34m:\u001b[0m\u001b[0;34m\u001b[0m\u001b[0;34m\u001b[0m\u001b[0m\n",
            "\u001b[0;32m/usr/local/lib/python3.10/dist-packages/torch/nn/modules/module.py\u001b[0m in \u001b[0;36m_call_impl\u001b[0;34m(self, *args, **kwargs)\u001b[0m\n\u001b[1;32m   1518\u001b[0m                 \u001b[0;32mor\u001b[0m \u001b[0m_global_backward_pre_hooks\u001b[0m \u001b[0;32mor\u001b[0m \u001b[0m_global_backward_hooks\u001b[0m\u001b[0;34m\u001b[0m\u001b[0;34m\u001b[0m\u001b[0m\n\u001b[1;32m   1519\u001b[0m                 or _global_forward_hooks or _global_forward_pre_hooks):\n\u001b[0;32m-> 1520\u001b[0;31m             \u001b[0;32mreturn\u001b[0m \u001b[0mforward_call\u001b[0m\u001b[0;34m(\u001b[0m\u001b[0;34m*\u001b[0m\u001b[0margs\u001b[0m\u001b[0;34m,\u001b[0m \u001b[0;34m**\u001b[0m\u001b[0mkwargs\u001b[0m\u001b[0;34m)\u001b[0m\u001b[0;34m\u001b[0m\u001b[0;34m\u001b[0m\u001b[0m\n\u001b[0m\u001b[1;32m   1521\u001b[0m \u001b[0;34m\u001b[0m\u001b[0m\n\u001b[1;32m   1522\u001b[0m         \u001b[0;32mtry\u001b[0m\u001b[0;34m:\u001b[0m\u001b[0;34m\u001b[0m\u001b[0;34m\u001b[0m\u001b[0m\n",
            "\u001b[0;32m/usr/local/lib/python3.10/dist-packages/torch/nn/modules/conv.py\u001b[0m in \u001b[0;36mforward\u001b[0;34m(self, input)\u001b[0m\n\u001b[1;32m    458\u001b[0m \u001b[0;34m\u001b[0m\u001b[0m\n\u001b[1;32m    459\u001b[0m     \u001b[0;32mdef\u001b[0m \u001b[0mforward\u001b[0m\u001b[0;34m(\u001b[0m\u001b[0mself\u001b[0m\u001b[0;34m,\u001b[0m \u001b[0minput\u001b[0m\u001b[0;34m:\u001b[0m \u001b[0mTensor\u001b[0m\u001b[0;34m)\u001b[0m \u001b[0;34m->\u001b[0m \u001b[0mTensor\u001b[0m\u001b[0;34m:\u001b[0m\u001b[0;34m\u001b[0m\u001b[0;34m\u001b[0m\u001b[0m\n\u001b[0;32m--> 460\u001b[0;31m         \u001b[0;32mreturn\u001b[0m \u001b[0mself\u001b[0m\u001b[0;34m.\u001b[0m\u001b[0m_conv_forward\u001b[0m\u001b[0;34m(\u001b[0m\u001b[0minput\u001b[0m\u001b[0;34m,\u001b[0m \u001b[0mself\u001b[0m\u001b[0;34m.\u001b[0m\u001b[0mweight\u001b[0m\u001b[0;34m,\u001b[0m \u001b[0mself\u001b[0m\u001b[0;34m.\u001b[0m\u001b[0mbias\u001b[0m\u001b[0;34m)\u001b[0m\u001b[0;34m\u001b[0m\u001b[0;34m\u001b[0m\u001b[0m\n\u001b[0m\u001b[1;32m    461\u001b[0m \u001b[0;34m\u001b[0m\u001b[0m\n\u001b[1;32m    462\u001b[0m \u001b[0;32mclass\u001b[0m \u001b[0mConv3d\u001b[0m\u001b[0;34m(\u001b[0m\u001b[0m_ConvNd\u001b[0m\u001b[0;34m)\u001b[0m\u001b[0;34m:\u001b[0m\u001b[0;34m\u001b[0m\u001b[0;34m\u001b[0m\u001b[0m\n",
            "\u001b[0;32m/usr/local/lib/python3.10/dist-packages/torch/nn/modules/conv.py\u001b[0m in \u001b[0;36m_conv_forward\u001b[0;34m(self, input, weight, bias)\u001b[0m\n\u001b[1;32m    454\u001b[0m                             \u001b[0mweight\u001b[0m\u001b[0;34m,\u001b[0m \u001b[0mbias\u001b[0m\u001b[0;34m,\u001b[0m \u001b[0mself\u001b[0m\u001b[0;34m.\u001b[0m\u001b[0mstride\u001b[0m\u001b[0;34m,\u001b[0m\u001b[0;34m\u001b[0m\u001b[0;34m\u001b[0m\u001b[0m\n\u001b[1;32m    455\u001b[0m                             _pair(0), self.dilation, self.groups)\n\u001b[0;32m--> 456\u001b[0;31m         return F.conv2d(input, weight, bias, self.stride,\n\u001b[0m\u001b[1;32m    457\u001b[0m                         self.padding, self.dilation, self.groups)\n\u001b[1;32m    458\u001b[0m \u001b[0;34m\u001b[0m\u001b[0m\n",
            "\u001b[0;31mRuntimeError\u001b[0m: Given groups=1, weight of size [256, 512, 1, 1], expected input[16, 256, 14, 14] to have 512 channels, but got 256 channels instead"
          ]
        }
      ],
      "source": [
        "# Initialize the improved U-Net model\n",
        "model = ImprovedUNet(in_channels=3, out_channels=1, features=32)\n",
        "\n",
        "# Load pre-trained weights into the encoder section\n",
        "pretrained_weights = torch.load( \"/content/drive/MyDrive/CEE 598 DL/stage1_weight.pth\")\n",
        "\n",
        "# Map pre-trained encoder weights to fine-tuning model's encoder layers\n",
        "model_state = model.state_dict()\n",
        "\n",
        "# Adjust this mapping according to your encoder's specific layer names\n",
        "encoder_weights_mapping = {\n",
        "    'enc1.0.weight': 'enc1.conv.weight',\n",
        "    'enc1.0.bias': 'enc1.conv.bias',\n",
        "    'enc2.0.weight': 'enc2.conv.weight',\n",
        "    'enc2.0.bias': 'enc2.conv.bias',\n",
        "    'enc3.0.weight': 'enc3.conv.weight',\n",
        "    'enc3.0.bias': 'enc3.conv.bias',\n",
        "    'enc4.0.weight': 'enc4.conv.weight',\n",
        "    'enc4.0.bias': 'enc4.conv.bias',\n",
        "}\n",
        "\n",
        "# Update the model's state dictionary with the pre-trained weights\n",
        "for pre_key, fine_key in encoder_weights_mapping.items():\n",
        "    if pre_key in pretrained_weights and fine_key in model_state:\n",
        "        model_state[fine_key] = pretrained_weights[pre_key]\n",
        "\n",
        "# Load the updated state dictionary back into the model\n",
        "model.load_state_dict(model_state)\n",
        "\n",
        "for name, param in model.named_parameters():\n",
        "    if name in encoder_weights_mapping.values():\n",
        "        param.requires_grad = False\n",
        "        \n",
        "# Move the model to the appropriate device\n",
        "device = torch.device(\"cuda\" if torch.cuda.is_available() else \"cpu\")\n",
        "model.to(device)\n",
        "\n",
        "# Training function\n",
        "def train_model(model, train_loader, criterion, optimizer, num_epochs=10):\n",
        "    model.train()\n",
        "    for epoch in range(num_epochs):\n",
        "        running_loss = 0.0\n",
        "        for images, masks in train_loader:\n",
        "            # Move images and masks to the GPU\n",
        "            images, masks = images.to(device), masks.to(device)\n",
        "\n",
        "            # Forward pass\n",
        "            outputs = model(images)\n",
        "            loss = criterion(outputs, masks)\n",
        "\n",
        "            # Backward pass and optimization\n",
        "            optimizer.zero_grad()\n",
        "            loss.backward()\n",
        "            optimizer.step()\n",
        "            running_loss += loss.item()\n",
        "\n",
        "        print(f\"Epoch {epoch+1}/{num_epochs} - Loss: {running_loss / len(train_loader):.4f}\")\n",
        "\n",
        "# Testing/Prediction function\n",
        "def evaluate_model(model, test_loader):\n",
        "    model.eval()\n",
        "    predictions = []\n",
        "    masks = []\n",
        "    with torch.no_grad():\n",
        "        for images, gt in test_loader:   \n",
        "            # Move images to the GPU\n",
        "            images = images.to(device)\n",
        "            outputs = model(images)\n",
        "\n",
        "            # Apply thresholding to get binary predictions\n",
        "            # predicted_masks = (outputs > 0.5).float()\n",
        "\n",
        "            # Store predictions (back to CPU if necessary)\n",
        "            predictions.extend(outputs.cpu())\n",
        "            masks .extend(gt.cpu())\n",
        "\n",
        "            \n",
        "    return predictions, masks\n",
        "\n",
        "# Define a loss function and optimizer\n",
        "criterion = nn.BCELoss()  # Binary Cross-Entropy Loss\n",
        "optimizer = torch.optim.Adam(model.parameters(), lr=0.05)\n",
        "\n",
        "# Example usage\n",
        "# Fine-tune the model\n",
        "num_epochs = 200  # Adjust as needed\n",
        "train_model(model, train_loader, criterion, optimizer, num_epochs)\n",
        "\n",
        "# Evaluate the model on the test dataset\n",
        "predicted_masks, origin_masks = evaluate_model(model, test_loader)\n",
        " \n"
      ]
    },
    {
      "cell_type": "code",
      "execution_count": null,
      "metadata": {
        "id": "xrGtPII2oZ5w"
      },
      "outputs": [],
      "source": [
        "plt.imshow(predicted_masks[29][0], cmap='gray')\n",
        "torch.save(model, '/content/drive/MyDrive/CEE 598 DL/2stage_model_2.pth')"
      ]
    },
    {
      "cell_type": "code",
      "execution_count": null,
      "metadata": {
        "id": "LeMuPVf9oZ8r"
      },
      "outputs": [],
      "source": [
        "plt.imshow(origin_masks[29][0], cmap='gray')"
      ]
    },
    {
      "cell_type": "code",
      "execution_count": null,
      "metadata": {
        "id": "DRMGlvsrRF80"
      },
      "outputs": [],
      "source": [
        "plt.imshow(predicted_masks[0][7][0], cmap='gray')"
      ]
    },
    {
      "cell_type": "code",
      "execution_count": null,
      "metadata": {
        "id": "XiEMu69eL4iY"
      },
      "outputs": [],
      "source": []
    },
    {
      "cell_type": "markdown",
      "metadata": {
        "id": "SBMbip8le5RZ"
      },
      "source": [
        "improved unet for fine tuning?"
      ]
    },
    {
      "cell_type": "markdown",
      "metadata": {
        "id": "UDmCNu9_e5Rb"
      },
      "source": [
        "encoder + MLP?"
      ]
    },
    {
      "cell_type": "markdown",
      "metadata": {
        "id": "2LB-hDufe5Rc"
      },
      "source": [
        "contrastive_loss"
      ]
    }
  ],
  "metadata": {
    "accelerator": "GPU",
    "colab": {
      "gpuType": "T4",
      "include_colab_link": true,
      "provenance": []
    },
    "kernelspec": {
      "display_name": "Python 3",
      "name": "python3"
    },
    "language_info": {
      "codemirror_mode": {
        "name": "ipython",
        "version": 3
      },
      "file_extension": ".py",
      "mimetype": "text/x-python",
      "name": "python",
      "nbconvert_exporter": "python",
      "pygments_lexer": "ipython3",
      "version": "3.11.8"
    }
  },
  "nbformat": 4,
  "nbformat_minor": 0
}
