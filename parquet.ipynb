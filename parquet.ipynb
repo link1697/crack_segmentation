{
 "cells": [
  {
   "cell_type": "code",
   "execution_count": 14,
   "metadata": {},
   "outputs": [
    {
     "name": "stderr",
     "output_type": "stream",
     "text": [
      "Writing Parquet Data: 100%|██████████| 30000000/30000000 [00:50<00:00, 592838.03it/s]"
     ]
    },
    {
     "name": "stdout",
     "output_type": "stream",
     "text": [
      "Data generation and writing completed.\n"
     ]
    },
    {
     "name": "stderr",
     "output_type": "stream",
     "text": [
      "\n"
     ]
    }
   ],
   "source": [
    "import numpy as np\n",
    "import pyarrow as pa\n",
    "import pyarrow.parquet as pq\n",
    "from tqdm import tqdm\n",
    "\n",
    "# Define the number of rows and columns\n",
    "num_rows = 30000000\n",
    "num_columns = 5\n",
    "batch_size = 1000000\n",
    "\n",
    "# Create Parquet schema\n",
    "schema = pa.schema([\n",
    "    (f'col{i}', pa.float64()) for i in range(num_columns)\n",
    "])\n",
    "\n",
    "# Create a Parquet file writer\n",
    "parquet_file = 'data1.parquet'\n",
    "with pq.ParquetWriter(parquet_file, schema) as writer:\n",
    "    # Generate and write data in batches\n",
    "    progress_bar = tqdm(total=num_rows, desc='Writing Parquet Data', position=0, leave=True)\n",
    "    for i in range(0, num_rows, batch_size):\n",
    "        # Generate batch of random data\n",
    "        data = {\n",
    "            f'col{i}': [np.random.rand() for _ in range(batch_size)] for i in range(num_columns)\n",
    "        }\n",
    "        table = pa.Table.from_pydict(data, schema=schema)\n",
    "        writer.write_table(table)\n",
    "\n",
    "        # Update progress bar\n",
    "        progress_bar.update(batch_size)\n",
    "\n",
    "progress_bar.close()\n",
    "print('Data generation and writing completed.')\n"
   ]
  }
 ],
 "metadata": {
  "kernelspec": {
   "display_name": "Python 3",
   "language": "python",
   "name": "python3"
  },
  "language_info": {
   "codemirror_mode": {
    "name": "ipython",
    "version": 3
   },
   "file_extension": ".py",
   "mimetype": "text/x-python",
   "name": "python",
   "nbconvert_exporter": "python",
   "pygments_lexer": "ipython3",
   "version": "3.11.8"
  }
 },
 "nbformat": 4,
 "nbformat_minor": 2
}
